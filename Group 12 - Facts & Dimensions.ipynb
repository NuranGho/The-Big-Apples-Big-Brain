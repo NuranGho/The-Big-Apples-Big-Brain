{
 "cells": [
  {
   "cell_type": "code",
   "execution_count": 1,
   "metadata": {},
   "outputs": [
    {
     "name": "stdout",
     "output_type": "stream",
     "text": [
      "Requirement already up-to-date: sodapy in c:\\users\\nuran\\anaconda3\\lib\\site-packages (2.2.0)\n",
      "Requirement already satisfied, skipping upgrade: requests>=2.28.1 in c:\\users\\nuran\\anaconda3\\lib\\site-packages (from sodapy) (2.28.1)\n",
      "Requirement already satisfied, skipping upgrade: urllib3<1.27,>=1.21.1 in c:\\users\\nuran\\anaconda3\\lib\\site-packages (from requests>=2.28.1->sodapy) (1.25.9)\n",
      "Requirement already satisfied, skipping upgrade: certifi>=2017.4.17 in c:\\users\\nuran\\anaconda3\\lib\\site-packages (from requests>=2.28.1->sodapy) (2020.6.20)\n",
      "Requirement already satisfied, skipping upgrade: charset-normalizer<3,>=2 in c:\\users\\nuran\\anaconda3\\lib\\site-packages (from requests>=2.28.1->sodapy) (2.1.1)\n",
      "Requirement already satisfied, skipping upgrade: idna<4,>=2.5 in c:\\users\\nuran\\anaconda3\\lib\\site-packages (from requests>=2.28.1->sodapy) (2.10)\n",
      "Note: you may need to restart the kernel to use updated packages.\n"
     ]
    }
   ],
   "source": [
    "pip install --upgrade sodapy"
   ]
  },
  {
   "cell_type": "code",
   "execution_count": 1,
   "metadata": {},
   "outputs": [],
   "source": [
    "import pandas as pd\n",
    "import numpy as np\n",
    "from sodapy import Socrata\n",
    "from google.cloud import bigquery\n",
    "from google.oauth2 import service_account"
   ]
  },
  {
   "cell_type": "code",
   "execution_count": 2,
   "metadata": {},
   "outputs": [],
   "source": [
    "key_path = r'C:\\Users\\nuran\\Desktop\\CIS9440\\project\\cis9440-375301-db3c117da2fe.json'"
   ]
  },
  {
   "cell_type": "code",
   "execution_count": 3,
   "metadata": {},
   "outputs": [
    {
     "name": "stdout",
     "output_type": "stream",
     "text": [
      "bigquery client name is: <google.cloud.bigquery.client.Client object at 0x0000024569819F40>\n",
      "bigquery client data type is: <class 'google.cloud.bigquery.client.Client'>\n"
     ]
    }
   ],
   "source": [
    "credentials = service_account.Credentials.from_service_account_file(key_path,\n",
    "                                                                    scopes=[\"https://www.googleapis.com/auth/cloud-platform\"],)\n",
    "bigquery_client = bigquery.Client(credentials = credentials,\n",
    "                                 project = credentials.project_id)\n",
    "\n",
    "print(f\"bigquery client name is: {bigquery_client}\")\n",
    "print(f\"bigquery client data type is: {type(bigquery_client)}\")"
   ]
  },
  {
   "cell_type": "code",
   "execution_count": 4,
   "metadata": {},
   "outputs": [
    {
     "name": "stdout",
     "output_type": "stream",
     "text": [
      "your dataset_id is: cis9440-375301.Group12_Final_Project\n"
     ]
    }
   ],
   "source": [
    "dataset_id = 'cis9440-375301.Group12_Final_Project'   # PASTE THIS DATASET ID FROM ABOVE STEPS\n",
    "\n",
    "dataset_id = dataset_id.replace(':', '.')\n",
    "print(f\"your dataset_id is: {dataset_id}\")"
   ]
  },
  {
   "cell_type": "code",
   "execution_count": 9,
   "metadata": {},
   "outputs": [],
   "source": [
    "df = pd.read_csv(\"Group12_cleaned_df.csv\")"
   ]
  },
  {
   "cell_type": "code",
   "execution_count": 10,
   "metadata": {},
   "outputs": [],
   "source": [
    "location_dim = df.copy()"
   ]
  },
  {
   "cell_type": "code",
   "execution_count": 11,
   "metadata": {},
   "outputs": [
    {
     "data": {
      "text/plain": [
       "Index(['School Name', 'Grade', 'Year', 'Mean Scale Score', '# Level 1',\n",
       "       '% Level 1', '# Level 2', '% Level 2', '# Level 3', '% Level 3',\n",
       "       '# Level 4', '% Level 4', '# Level 3+4', '% Level 3+4',\n",
       "       'District Number', 'School Number', 'location_ID', 'level_ID',\n",
       "       'year_ID', 'Borough'],\n",
       "      dtype='object')"
      ]
     },
     "execution_count": 11,
     "metadata": {},
     "output_type": "execute_result"
    }
   ],
   "source": [
    "location_dim.columns"
   ]
  },
  {
   "cell_type": "code",
   "execution_count": 12,
   "metadata": {},
   "outputs": [],
   "source": [
    "location_dim = location_dim[['location_ID',\n",
    "                             'Borough',\n",
    "                             'School Number',\n",
    "                             'District Number']]"
   ]
  },
  {
   "cell_type": "code",
   "execution_count": 13,
   "metadata": {},
   "outputs": [
    {
     "data": {
      "text/html": [
       "<div>\n",
       "<style scoped>\n",
       "    .dataframe tbody tr th:only-of-type {\n",
       "        vertical-align: middle;\n",
       "    }\n",
       "\n",
       "    .dataframe tbody tr th {\n",
       "        vertical-align: top;\n",
       "    }\n",
       "\n",
       "    .dataframe thead th {\n",
       "        text-align: right;\n",
       "    }\n",
       "</style>\n",
       "<table border=\"1\" class=\"dataframe\">\n",
       "  <thead>\n",
       "    <tr style=\"text-align: right;\">\n",
       "      <th></th>\n",
       "      <th>location_ID</th>\n",
       "      <th>Borough</th>\n",
       "      <th>School Number</th>\n",
       "      <th>District Number</th>\n",
       "    </tr>\n",
       "  </thead>\n",
       "  <tbody>\n",
       "    <tr>\n",
       "      <th>0</th>\n",
       "      <td>100</td>\n",
       "      <td>Manhattan</td>\n",
       "      <td>15</td>\n",
       "      <td>1</td>\n",
       "    </tr>\n",
       "    <tr>\n",
       "      <th>1</th>\n",
       "      <td>101</td>\n",
       "      <td>Manhattan</td>\n",
       "      <td>15</td>\n",
       "      <td>1</td>\n",
       "    </tr>\n",
       "    <tr>\n",
       "      <th>2</th>\n",
       "      <td>102</td>\n",
       "      <td>Manhattan</td>\n",
       "      <td>15</td>\n",
       "      <td>1</td>\n",
       "    </tr>\n",
       "    <tr>\n",
       "      <th>3</th>\n",
       "      <td>103</td>\n",
       "      <td>Manhattan</td>\n",
       "      <td>15</td>\n",
       "      <td>1</td>\n",
       "    </tr>\n",
       "    <tr>\n",
       "      <th>4</th>\n",
       "      <td>104</td>\n",
       "      <td>Manhattan</td>\n",
       "      <td>15</td>\n",
       "      <td>1</td>\n",
       "    </tr>\n",
       "    <tr>\n",
       "      <th>...</th>\n",
       "      <td>...</td>\n",
       "      <td>...</td>\n",
       "      <td>...</td>\n",
       "      <td>...</td>\n",
       "    </tr>\n",
       "    <tr>\n",
       "      <th>57379</th>\n",
       "      <td>57479</td>\n",
       "      <td>Brooklyn</td>\n",
       "      <td>562</td>\n",
       "      <td>32</td>\n",
       "    </tr>\n",
       "    <tr>\n",
       "      <th>57380</th>\n",
       "      <td>57480</td>\n",
       "      <td>Brooklyn</td>\n",
       "      <td>562</td>\n",
       "      <td>32</td>\n",
       "    </tr>\n",
       "    <tr>\n",
       "      <th>57381</th>\n",
       "      <td>57481</td>\n",
       "      <td>Brooklyn</td>\n",
       "      <td>562</td>\n",
       "      <td>32</td>\n",
       "    </tr>\n",
       "    <tr>\n",
       "      <th>57382</th>\n",
       "      <td>57482</td>\n",
       "      <td>Brooklyn</td>\n",
       "      <td>562</td>\n",
       "      <td>32</td>\n",
       "    </tr>\n",
       "    <tr>\n",
       "      <th>57383</th>\n",
       "      <td>57483</td>\n",
       "      <td>Brooklyn</td>\n",
       "      <td>562</td>\n",
       "      <td>32</td>\n",
       "    </tr>\n",
       "  </tbody>\n",
       "</table>\n",
       "<p>57384 rows × 4 columns</p>\n",
       "</div>"
      ],
      "text/plain": [
       "       location_ID    Borough  School Number  District Number\n",
       "0              100  Manhattan             15                1\n",
       "1              101  Manhattan             15                1\n",
       "2              102  Manhattan             15                1\n",
       "3              103  Manhattan             15                1\n",
       "4              104  Manhattan             15                1\n",
       "...            ...        ...            ...              ...\n",
       "57379        57479   Brooklyn            562               32\n",
       "57380        57480   Brooklyn            562               32\n",
       "57381        57481   Brooklyn            562               32\n",
       "57382        57482   Brooklyn            562               32\n",
       "57383        57483   Brooklyn            562               32\n",
       "\n",
       "[57384 rows x 4 columns]"
      ]
     },
     "execution_count": 13,
     "metadata": {},
     "output_type": "execute_result"
    }
   ],
   "source": [
    "unique_row = ['location_ID']\n",
    "location_dim = location_dim.drop_duplicates(subset = unique_row, keep = 'first')\n",
    "location_dim = location_dim.reset_index(drop = True)\n",
    "location_dim"
   ]
  },
  {
   "cell_type": "code",
   "execution_count": 14,
   "metadata": {},
   "outputs": [],
   "source": [
    "levels_dim = df.copy()"
   ]
  },
  {
   "cell_type": "code",
   "execution_count": 15,
   "metadata": {},
   "outputs": [
    {
     "data": {
      "text/plain": [
       "Index(['School Name', 'Grade', 'Year', 'Mean Scale Score', '# Level 1',\n",
       "       '% Level 1', '# Level 2', '% Level 2', '# Level 3', '% Level 3',\n",
       "       '# Level 4', '% Level 4', '# Level 3+4', '% Level 3+4',\n",
       "       'District Number', 'School Number', 'location_ID', 'level_ID',\n",
       "       'year_ID', 'Borough'],\n",
       "      dtype='object')"
      ]
     },
     "execution_count": 15,
     "metadata": {},
     "output_type": "execute_result"
    }
   ],
   "source": [
    "levels_dim.columns"
   ]
  },
  {
   "cell_type": "code",
   "execution_count": 16,
   "metadata": {},
   "outputs": [],
   "source": [
    "levels_dim = levels_dim[['level_ID',\n",
    "                             '% Level 1',\n",
    "                             '% Level 2',\n",
    "                             '% Level 3', \n",
    "                        '% Level 4', \n",
    "                        '% Level 3+4']]"
   ]
  },
  {
   "cell_type": "code",
   "execution_count": 17,
   "metadata": {},
   "outputs": [
    {
     "data": {
      "text/html": [
       "<div>\n",
       "<style scoped>\n",
       "    .dataframe tbody tr th:only-of-type {\n",
       "        vertical-align: middle;\n",
       "    }\n",
       "\n",
       "    .dataframe tbody tr th {\n",
       "        vertical-align: top;\n",
       "    }\n",
       "\n",
       "    .dataframe thead th {\n",
       "        text-align: right;\n",
       "    }\n",
       "</style>\n",
       "<table border=\"1\" class=\"dataframe\">\n",
       "  <thead>\n",
       "    <tr style=\"text-align: right;\">\n",
       "      <th></th>\n",
       "      <th>level_ID</th>\n",
       "      <th>% Level 1</th>\n",
       "      <th>% Level 2</th>\n",
       "      <th>% Level 3</th>\n",
       "      <th>% Level 4</th>\n",
       "      <th>% Level 3+4</th>\n",
       "    </tr>\n",
       "  </thead>\n",
       "  <tbody>\n",
       "    <tr>\n",
       "      <th>0</th>\n",
       "      <td>200</td>\n",
       "      <td>51.85185242</td>\n",
       "      <td>40.74074173</td>\n",
       "      <td>7.407407284</td>\n",
       "      <td>0</td>\n",
       "      <td>7.407407284</td>\n",
       "    </tr>\n",
       "    <tr>\n",
       "      <th>1</th>\n",
       "      <td>201</td>\n",
       "      <td>55.55555725</td>\n",
       "      <td>44.44444275</td>\n",
       "      <td>0</td>\n",
       "      <td>0</td>\n",
       "      <td>0</td>\n",
       "    </tr>\n",
       "    <tr>\n",
       "      <th>2</th>\n",
       "      <td>202</td>\n",
       "      <td>56.25</td>\n",
       "      <td>31.25</td>\n",
       "      <td>12.5</td>\n",
       "      <td>0</td>\n",
       "      <td>12.5</td>\n",
       "    </tr>\n",
       "    <tr>\n",
       "      <th>3</th>\n",
       "      <td>203</td>\n",
       "      <td>50</td>\n",
       "      <td>30</td>\n",
       "      <td>20</td>\n",
       "      <td>0</td>\n",
       "      <td>20</td>\n",
       "    </tr>\n",
       "    <tr>\n",
       "      <th>4</th>\n",
       "      <td>204</td>\n",
       "      <td>37.0370369</td>\n",
       "      <td>29.62962914</td>\n",
       "      <td>25.92592621</td>\n",
       "      <td>7.407407284</td>\n",
       "      <td>33.33333206</td>\n",
       "    </tr>\n",
       "    <tr>\n",
       "      <th>...</th>\n",
       "      <td>...</td>\n",
       "      <td>...</td>\n",
       "      <td>...</td>\n",
       "      <td>...</td>\n",
       "      <td>...</td>\n",
       "      <td>...</td>\n",
       "    </tr>\n",
       "    <tr>\n",
       "      <th>57379</th>\n",
       "      <td>57579</td>\n",
       "      <td>62</td>\n",
       "      <td>28</td>\n",
       "      <td>8</td>\n",
       "      <td>2</td>\n",
       "      <td>10</td>\n",
       "    </tr>\n",
       "    <tr>\n",
       "      <th>57380</th>\n",
       "      <td>57580</td>\n",
       "      <td>75.78125</td>\n",
       "      <td>24.21875</td>\n",
       "      <td>0</td>\n",
       "      <td>0</td>\n",
       "      <td>0</td>\n",
       "    </tr>\n",
       "    <tr>\n",
       "      <th>57381</th>\n",
       "      <td>57581</td>\n",
       "      <td>60.43955994</td>\n",
       "      <td>36.26373672</td>\n",
       "      <td>3.296703339</td>\n",
       "      <td>0</td>\n",
       "      <td>3.296703339</td>\n",
       "    </tr>\n",
       "    <tr>\n",
       "      <th>57382</th>\n",
       "      <td>57582</td>\n",
       "      <td>67.04545593</td>\n",
       "      <td>28.40909004</td>\n",
       "      <td>3.409090996</td>\n",
       "      <td>1.136363626</td>\n",
       "      <td>4.545454502</td>\n",
       "    </tr>\n",
       "    <tr>\n",
       "      <th>57383</th>\n",
       "      <td>57583</td>\n",
       "      <td>49.07407379</td>\n",
       "      <td>31.48148155</td>\n",
       "      <td>14.81481457</td>\n",
       "      <td>4.629629612</td>\n",
       "      <td>19.44444466</td>\n",
       "    </tr>\n",
       "  </tbody>\n",
       "</table>\n",
       "<p>57384 rows × 6 columns</p>\n",
       "</div>"
      ],
      "text/plain": [
       "       level_ID    % Level 1    % Level 2    % Level 3    % Level 4  \\\n",
       "0           200  51.85185242  40.74074173  7.407407284            0   \n",
       "1           201  55.55555725  44.44444275            0            0   \n",
       "2           202        56.25        31.25         12.5            0   \n",
       "3           203           50           30           20            0   \n",
       "4           204   37.0370369  29.62962914  25.92592621  7.407407284   \n",
       "...         ...          ...          ...          ...          ...   \n",
       "57379     57579           62           28            8            2   \n",
       "57380     57580     75.78125     24.21875            0            0   \n",
       "57381     57581  60.43955994  36.26373672  3.296703339            0   \n",
       "57382     57582  67.04545593  28.40909004  3.409090996  1.136363626   \n",
       "57383     57583  49.07407379  31.48148155  14.81481457  4.629629612   \n",
       "\n",
       "       % Level 3+4  \n",
       "0      7.407407284  \n",
       "1                0  \n",
       "2             12.5  \n",
       "3               20  \n",
       "4      33.33333206  \n",
       "...            ...  \n",
       "57379           10  \n",
       "57380            0  \n",
       "57381  3.296703339  \n",
       "57382  4.545454502  \n",
       "57383  19.44444466  \n",
       "\n",
       "[57384 rows x 6 columns]"
      ]
     },
     "execution_count": 17,
     "metadata": {},
     "output_type": "execute_result"
    }
   ],
   "source": [
    "unique_row = ['level_ID']\n",
    "levels_dim = levels_dim.drop_duplicates(subset = unique_row, keep = 'first')\n",
    "levels_dim = levels_dim.reset_index(drop = True)\n",
    "levels_dim"
   ]
  },
  {
   "cell_type": "code",
   "execution_count": 21,
   "metadata": {},
   "outputs": [],
   "source": [
    "year_dim = df"
   ]
  },
  {
   "cell_type": "code",
   "execution_count": 22,
   "metadata": {},
   "outputs": [],
   "source": [
    "year_dim = year_dim[['year_ID','Year']]"
   ]
  },
  {
   "cell_type": "code",
   "execution_count": 23,
   "metadata": {},
   "outputs": [
    {
     "data": {
      "text/html": [
       "<div>\n",
       "<style scoped>\n",
       "    .dataframe tbody tr th:only-of-type {\n",
       "        vertical-align: middle;\n",
       "    }\n",
       "\n",
       "    .dataframe tbody tr th {\n",
       "        vertical-align: top;\n",
       "    }\n",
       "\n",
       "    .dataframe thead th {\n",
       "        text-align: right;\n",
       "    }\n",
       "</style>\n",
       "<table border=\"1\" class=\"dataframe\">\n",
       "  <thead>\n",
       "    <tr style=\"text-align: right;\">\n",
       "      <th></th>\n",
       "      <th>year_ID</th>\n",
       "      <th>Year</th>\n",
       "    </tr>\n",
       "  </thead>\n",
       "  <tbody>\n",
       "    <tr>\n",
       "      <th>0</th>\n",
       "      <td>300</td>\n",
       "      <td>2013</td>\n",
       "    </tr>\n",
       "    <tr>\n",
       "      <th>1</th>\n",
       "      <td>301</td>\n",
       "      <td>2014</td>\n",
       "    </tr>\n",
       "    <tr>\n",
       "      <th>2</th>\n",
       "      <td>302</td>\n",
       "      <td>2015</td>\n",
       "    </tr>\n",
       "    <tr>\n",
       "      <th>3</th>\n",
       "      <td>303</td>\n",
       "      <td>2016</td>\n",
       "    </tr>\n",
       "    <tr>\n",
       "      <th>4</th>\n",
       "      <td>304</td>\n",
       "      <td>2017</td>\n",
       "    </tr>\n",
       "    <tr>\n",
       "      <th>5</th>\n",
       "      <td>305</td>\n",
       "      <td>2018</td>\n",
       "    </tr>\n",
       "    <tr>\n",
       "      <th>6</th>\n",
       "      <td>306</td>\n",
       "      <td>2019</td>\n",
       "    </tr>\n",
       "    <tr>\n",
       "      <th>7</th>\n",
       "      <td>307</td>\n",
       "      <td>2022</td>\n",
       "    </tr>\n",
       "  </tbody>\n",
       "</table>\n",
       "</div>"
      ],
      "text/plain": [
       "   year_ID  Year\n",
       "0      300  2013\n",
       "1      301  2014\n",
       "2      302  2015\n",
       "3      303  2016\n",
       "4      304  2017\n",
       "5      305  2018\n",
       "6      306  2019\n",
       "7      307  2022"
      ]
     },
     "execution_count": 23,
     "metadata": {},
     "output_type": "execute_result"
    }
   ],
   "source": [
    "unique_year = [\"Year\"]\n",
    "year_dim = year_dim.drop_duplicates(subset = unique_year, keep = 'first')\n",
    "year_dim = year_dim.reset_index(drop = True)\n",
    "year_dim"
   ]
  },
  {
   "cell_type": "code",
   "execution_count": 24,
   "metadata": {},
   "outputs": [
    {
     "data": {
      "text/plain": [
       "Index(['School Name', 'Grade', 'Year', 'Mean Scale Score', '# Level 1',\n",
       "       '% Level 1', '# Level 2', '% Level 2', '# Level 3', '% Level 3',\n",
       "       '# Level 4', '% Level 4', '# Level 3+4', '% Level 3+4',\n",
       "       'District Number', 'School Number', 'location_ID', 'level_ID',\n",
       "       'year_ID', 'Borough'],\n",
       "      dtype='object')"
      ]
     },
     "execution_count": 24,
     "metadata": {},
     "output_type": "execute_result"
    }
   ],
   "source": [
    "df.columns"
   ]
  },
  {
   "cell_type": "code",
   "execution_count": 27,
   "metadata": {},
   "outputs": [
    {
     "data": {
      "text/html": [
       "<div>\n",
       "<style scoped>\n",
       "    .dataframe tbody tr th:only-of-type {\n",
       "        vertical-align: middle;\n",
       "    }\n",
       "\n",
       "    .dataframe tbody tr th {\n",
       "        vertical-align: top;\n",
       "    }\n",
       "\n",
       "    .dataframe thead th {\n",
       "        text-align: right;\n",
       "    }\n",
       "</style>\n",
       "<table border=\"1\" class=\"dataframe\">\n",
       "  <thead>\n",
       "    <tr style=\"text-align: right;\">\n",
       "      <th></th>\n",
       "      <th>location_ID</th>\n",
       "      <th>level_ID</th>\n",
       "      <th>year_ID</th>\n",
       "      <th>Mean Scale Score</th>\n",
       "    </tr>\n",
       "  </thead>\n",
       "  <tbody>\n",
       "    <tr>\n",
       "      <th>0</th>\n",
       "      <td>100</td>\n",
       "      <td>200</td>\n",
       "      <td>300</td>\n",
       "      <td>289.2962952</td>\n",
       "    </tr>\n",
       "    <tr>\n",
       "      <th>1</th>\n",
       "      <td>101</td>\n",
       "      <td>201</td>\n",
       "      <td>301</td>\n",
       "      <td>285.1111145</td>\n",
       "    </tr>\n",
       "    <tr>\n",
       "      <th>2</th>\n",
       "      <td>102</td>\n",
       "      <td>202</td>\n",
       "      <td>302</td>\n",
       "      <td>281.8125</td>\n",
       "    </tr>\n",
       "    <tr>\n",
       "      <th>3</th>\n",
       "      <td>103</td>\n",
       "      <td>203</td>\n",
       "      <td>303</td>\n",
       "      <td>292.5</td>\n",
       "    </tr>\n",
       "    <tr>\n",
       "      <th>4</th>\n",
       "      <td>104</td>\n",
       "      <td>204</td>\n",
       "      <td>304</td>\n",
       "      <td>302.3703613</td>\n",
       "    </tr>\n",
       "    <tr>\n",
       "      <th>...</th>\n",
       "      <td>...</td>\n",
       "      <td>...</td>\n",
       "      <td>...</td>\n",
       "      <td>...</td>\n",
       "    </tr>\n",
       "    <tr>\n",
       "      <th>57379</th>\n",
       "      <td>57479</td>\n",
       "      <td>57579</td>\n",
       "      <td>57679</td>\n",
       "      <td>584.4299927</td>\n",
       "    </tr>\n",
       "    <tr>\n",
       "      <th>57380</th>\n",
       "      <td>57480</td>\n",
       "      <td>57580</td>\n",
       "      <td>57680</td>\n",
       "      <td>267.9453125</td>\n",
       "    </tr>\n",
       "    <tr>\n",
       "      <th>57381</th>\n",
       "      <td>57481</td>\n",
       "      <td>57581</td>\n",
       "      <td>57681</td>\n",
       "      <td>273.9890137</td>\n",
       "    </tr>\n",
       "    <tr>\n",
       "      <th>57382</th>\n",
       "      <td>57482</td>\n",
       "      <td>57582</td>\n",
       "      <td>57682</td>\n",
       "      <td>267.7954407</td>\n",
       "    </tr>\n",
       "    <tr>\n",
       "      <th>57383</th>\n",
       "      <td>57483</td>\n",
       "      <td>57583</td>\n",
       "      <td>57683</td>\n",
       "      <td>595.361084</td>\n",
       "    </tr>\n",
       "  </tbody>\n",
       "</table>\n",
       "<p>57384 rows × 4 columns</p>\n",
       "</div>"
      ],
      "text/plain": [
       "       location_ID  level_ID  year_ID Mean Scale Score\n",
       "0              100       200      300      289.2962952\n",
       "1              101       201      301      285.1111145\n",
       "2              102       202      302         281.8125\n",
       "3              103       203      303            292.5\n",
       "4              104       204      304      302.3703613\n",
       "...            ...       ...      ...              ...\n",
       "57379        57479     57579    57679      584.4299927\n",
       "57380        57480     57580    57680      267.9453125\n",
       "57381        57481     57581    57681      273.9890137\n",
       "57382        57482     57582    57682      267.7954407\n",
       "57383        57483     57583    57683       595.361084\n",
       "\n",
       "[57384 rows x 4 columns]"
      ]
     },
     "execution_count": 27,
     "metadata": {},
     "output_type": "execute_result"
    }
   ],
   "source": [
    "fact_table = df[['location_ID',\n",
    "                   'level_ID',\n",
    "                   'year_ID',\n",
    "                'Mean Scale Score']]\n",
    "\n",
    "fact_table"
   ]
  },
  {
   "cell_type": "code",
   "execution_count": null,
   "metadata": {},
   "outputs": [],
   "source": [
    "def load_table_to_bigquery(df,\n",
    "                          table_name,\n",
    "                          dataset_id):\n",
    "\n",
    "    dataset_id = dataset_id #change 301800 to match your project id\n",
    "\n",
    "    dataset_ref = bigquery_client.dataset(dataset_id)\n",
    "    job_config = bigquery.LoadJobConfig()\n",
    "    job_config.autodetect = True\n",
    "    job_config.write_disposition = \"WRITE_TRUNCATE\"\n",
    "\n",
    "    upload_table_name = f\"{dataset_id}.{table_name}\"\n",
    "    \n",
    "    load_job = bigquery_client.load_table_from_dataframe(df,\n",
    "                                                upload_table_name,\n",
    "                                                job_config = job_config)\n",
    "        \n",
    "    print(f\"\"\"completed loading {table_name} -- {load_job}\"\"\")"
   ]
  },
  {
   "cell_type": "code",
   "execution_count": null,
   "metadata": {},
   "outputs": [],
   "source": [
    "load_table_to_bigquery(df = location_dim,\n",
    "                       table_name = \"location_dim\",\n",
    "                       dataset_id = dataset_id)"
   ]
  },
  {
   "cell_type": "code",
   "execution_count": null,
   "metadata": {},
   "outputs": [],
   "source": [
    "load_table_to_bigquery(df = location_dim,\n",
    "                       table_name = \"year_dim\",\n",
    "                       dataset_id = dataset_id)"
   ]
  },
  {
   "cell_type": "code",
   "execution_count": null,
   "metadata": {},
   "outputs": [],
   "source": [
    "load_table_to_bigquery(df = location_dim,\n",
    "                       table_name = \"levels_dim\",\n",
    "                       dataset_id = dataset_id)"
   ]
  },
  {
   "cell_type": "code",
   "execution_count": null,
   "metadata": {},
   "outputs": [],
   "source": []
  }
 ],
 "metadata": {
  "kernelspec": {
   "display_name": "Python 3",
   "language": "python",
   "name": "python3"
  },
  "language_info": {
   "codemirror_mode": {
    "name": "ipython",
    "version": 3
   },
   "file_extension": ".py",
   "mimetype": "text/x-python",
   "name": "python",
   "nbconvert_exporter": "python",
   "pygments_lexer": "ipython3",
   "version": "3.8.3"
  }
 },
 "nbformat": 4,
 "nbformat_minor": 4
}
